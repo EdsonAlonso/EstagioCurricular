{
 "cells": [
  {
   "cell_type": "code",
   "execution_count": 1,
   "metadata": {},
   "outputs": [],
   "source": [
    "# importando bibliotecas uteis em python:\n",
    "import numpy as np\n",
    "from matplotlib import pyplot\n",
    "from random import randint\n",
    "from random import random\n",
    "from PIL import Image\n",
    "from pylab import figure, axes, pie, title, show"
   ]
  },
  {
   "cell_type": "markdown",
   "metadata": {},
   "source": [
    "### Script para simular um perfil sintético gravimétrico. A fonte enterrada é uma esfera (fonte pontual) localizada nas coordenadas cartesianas (xc, zc) definidas pelo usuário.\n",
    "\n",
    "### A equação que computa a componente vertical (z) da atração gravitacional produzida por uma fonte pontual é :\n",
    "# $g_z = -G\\frac{m (z-zc)}{((x-xc)^2 + (z-zc)^2)^{3/2}}$\n"
   ]
  },
  {
   "cell_type": "code",
   "execution_count": 2,
   "metadata": {},
   "outputs": [],
   "source": [
    "# definindo as posicoes final e inicial do gravimetro em funcao das coordenadas do perfil sintetico:\n",
    "min = randint(0,10) #Sorteando a posição inicial do Gravímetro.\n",
    "max = randint(0,10) #Sorteando a posição final do Gravímetro.\n",
    "if min > max:       #Caso o mínimo e o máximo estiverem trocados.\n",
    "    min = max\n",
    "    max = min\n",
    "else:\n",
    "    min = min\n",
    "    max = max\n",
    "if min == max:      #Caso o mínimo e o máximo forem iguais.\n",
    "    min = randint(0,max)\n",
    "    max = randint(min,10)\n",
    "#print(min, max)"
   ]
  },
  {
   "cell_type": "code",
   "execution_count": 3,
   "metadata": {},
   "outputs": [],
   "source": [
    "# definicao das coordenadas do perfil sintetico:\n",
    "xmin = -100.0 # minimo do perfil\n",
    "xmax = +100.0 # maximo do perfil\n",
    "n = 50 # numero de pontos do perfil\n",
    "x = np.linspace(xmin, xmax, n, endpoint= True ) # coordenadas x do perfil\n",
    "\n",
    "# altura das medidas:\n",
    "z = -10.0"
   ]
  },
  {
   "cell_type": "code",
   "execution_count": 4,
   "metadata": {},
   "outputs": [],
   "source": [
    "# definicao das coordenadas do perfil sintetico via edson brain!\n",
    "coord = list(range(10))   #Estou supondo 10 Gravímetros pois me parece um bom número para conferir o funcionamento do programa.\n",
    "for n in range(0,10):\n",
    "    coord[n] = (x[n],0)   #A coordenada z vai ser sempre 0, pois os Gravímetros estão na superfície.\n",
    "#print (coord[0][1])"
   ]
  },
  {
   "cell_type": "code",
   "execution_count": 5,
   "metadata": {},
   "outputs": [],
   "source": [
    "#DEFININDO ALGUMAS CONSTANTES\n",
    "G = 6.674*(10**(-11)) # constante universal no SI:\n",
    "si2mGal = 100000.0 # conversor de unidades\n",
    "pi_edson = 3.1415 # não presi\n",
    "pi = np.pi\n",
    "#print ('pi_edson =', pi_edson, 'pi_python=', pi)"
   ]
  },
  {
   "cell_type": "code",
   "execution_count": 10,
   "metadata": {},
   "outputs": [],
   "source": [
    "# Definicao das propriedades da fonte esferica:\n",
    "xc = 0.0\n",
    "zc = 15.0\n",
    "raio = 20.0\n",
    "rho = 2000.0\n",
    "V = (4.0/3.0) * pi * raio**3 * rho\n",
    "massa = V*rho\n",
    "#print (V, massa)"
   ]
  },
  {
   "cell_type": "code",
   "execution_count": 11,
   "metadata": {},
   "outputs": [],
   "source": [
    "#Definindo a funcao bolinha:\n",
    "rmin = 0\n",
    "rmax = 10\n",
    "r = np.linspace(rmin,rmax,num=10,endpoint=True)\n",
    "y = pi*r**2"
   ]
  },
  {
   "cell_type": "code",
   "execution_count": 12,
   "metadata": {},
   "outputs": [
    {
     "name": "stdout",
     "output_type": "stream",
     "text": [
      "[  20.42073599   22.96380594   25.93853403   29.43835106   33.58136043\n",
      "   38.51802393   44.44158858   51.60233824   60.32720695   71.04692798\n",
      "   84.33376189  100.95397134  121.94049438  148.69227858  183.10614911\n",
      "  227.74141572  285.99834489  362.24097368  461.67822656  589.58833098\n",
      "  749.13284175  936.84740395 1135.9608119  1311.59977252 1417.15723091\n",
      " 1417.15723091 1311.59977252 1135.9608119   936.84740395  749.13284175\n",
      "  589.58833098  461.67822656  362.24097368  285.99834489  227.74141572\n",
      "  183.10614911  148.69227858  121.94049438  100.95397134   84.33376189\n",
      "   71.04692798   60.32720695   51.60233824   44.44158858   38.51802393\n",
      "   33.58136043   29.43835106   25.93853403   22.96380594   20.42073599]\n"
     ]
    }
   ],
   "source": [
    "# calculo da componente vertical gz:\n",
    "gz =  - G * massa * (z-zc) / ( (x-xc)**2 + (z-zc)**2 )**(3/2)\n",
    "gz *= si2mGal\n",
    "print (gz)\n",
    "np.savetxt('Componente_vertical',gz,header='Dados da componente vertical de gz lido em cada posição do Gravímetro')"
   ]
  },
  {
   "cell_type": "code",
   "execution_count": 13,
   "metadata": {
    "scrolled": true
   },
   "outputs": [
    {
     "data": {
      "image/png": "[encoded data removed]",
      "text/plain": [
       "<Figure size 1008x360 with 2 Axes>"
      ]
     },
     "metadata": {},
     "output_type": "display_data"
    }
   ],
   "source": [
    "# plotando o resultado:\n",
    "pyplot.figure(figsize=(14,5))\n",
    "pyplot.subplot(1,2,1)\n",
    "pyplot.plot(x,gz,'r+')\n",
    "pyplot.title('Comonente Vertical $G_z$')\n",
    "pyplot.subplot(1,2,2)\n",
    "pyplot.plot(r,y,'bo')\n",
    "pyplot.title('Bolinha')\n",
    "pyplot.savefig('Figura_1.jpeg')\n",
    "pyplot.show()"
   ]
  },
  {
   "cell_type": "markdown",
   "metadata": {},
   "source": [
    "## TODO:\n",
    "##  1) Subplot com a bolinha, colocando o tamanho da bolinha em funcao do raio\n",
    "##  2) Salvar a figura e o arquivo com os dados"
   ]
  },
  {
   "cell_type": "code",
   "execution_count": null,
   "metadata": {},
   "outputs": [],
   "source": []
  }
 ],
 "metadata": {
  "kernelspec": {
   "display_name": "Python 3",
   "language": "python",
   "name": "python3"
  },
  "language_info": {
   "codemirror_mode": {
    "name": "ipython",
    "version": 3
   },
   "file_extension": ".py",
   "mimetype": "text/x-python",
   "name": "python",
   "nbconvert_exporter": "python",
   "pygments_lexer": "ipython3",
   "version": "3.7.0"
  }
 },
 "nbformat": 4,
 "nbformat_minor": 2
}
