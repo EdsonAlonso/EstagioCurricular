{
 "cells": [
  {
   "cell_type": "code",
   "execution_count": 1,
   "metadata": {},
   "outputs": [],
   "source": [
    "# importando bibliotecas uteis em python:\n",
    "import numpy as np\n",
    "from matplotlib.patches import Circle\n",
    "from matplotlib.patches import Ellipse\n",
    "import matplotlib.pyplot as plt\n",
    "from random import randint\n",
    "from random import random"
   ]
  },
  {
   "cell_type": "markdown",
   "metadata": {},
   "source": [
    "### Script para simular um perfil sintético gravimétrico. A fonte enterrada é uma esfera (fonte pontual) localizada nas coordenadas cartesianas (xc, zc) definidas pelo usuário.\n",
    "\n",
    "### A equação que computa a componente vertical (z) da atração gravitacional produzida por uma fonte pontual é :\n",
    "# $g_z = -G\\frac{m (z-zc)}{[(x-xc)^2 + (z-zc)^2]^{3/2}}$\n"
   ]
  },
  {
   "cell_type": "code",
   "execution_count": 2,
   "metadata": {},
   "outputs": [],
   "source": [
    "# definindo as posicoes final e inicial do gravimetro em funcao das coordenadas do perfil sintetico:\n",
    "min = randint(0,10) #Sorteando a posição inicial do Gravímetro.\n",
    "max = randint(0,10) #Sorteando a posição final do Gravímetro.\n",
    "if min > max:       #Caso o mínimo e o máximo estiverem trocados.\n",
    "    min = max\n",
    "    max = min\n",
    "else:\n",
    "    min = min\n",
    "    max = max\n",
    "if min == max:      #Caso o mínimo e o máximo forem iguais.\n",
    "    min = randint(0,max)\n",
    "    max = randint(min,10)\n",
    "#print(min, max)"
   ]
  },
  {
   "cell_type": "code",
   "execution_count": 3,
   "metadata": {},
   "outputs": [],
   "source": [
    "# definicao das coordenadas do perfil sintetico:\n",
    "xmin = -100.0 # minimo do perfil\n",
    "xmax = +100.0 # maximo do perfil\n",
    "n = 50 # numero de pontos do perfil\n",
    "x = np.linspace(xmin, xmax, n, endpoint= True ) # coordenadas x do perfil\n",
    "\n",
    "# altura das medidas:\n",
    "z = -10.0"
   ]
  },
  {
   "cell_type": "code",
   "execution_count": 4,
   "metadata": {},
   "outputs": [],
   "source": [
    "# definicao das coordenadas do perfil sintetico via edson brain!\n",
    "coord = list(range(10))   #Estou supondo 10 Gravímetros pois me parece um bom número para conferir o funcionamento do programa.\n",
    "for n in range(0,10):\n",
    "    coord[n] = (x[n],0)   #A coordenada z vai ser sempre 0, pois os Gravímetros estão na superfície.\n",
    "#print (coord[0][1])"
   ]
  },
  {
   "cell_type": "code",
   "execution_count": 5,
   "metadata": {},
   "outputs": [],
   "source": [
    "#DEFININDO ALGUMAS CONSTANTES\n",
    "G = 6.674*(10**(-11)) # constante universal no SI:\n",
    "si2mGal = 100000.0 # conversor de unidades\n",
    "pi_edson = 3.1415 # não presi\n",
    "pi = np.pi\n",
    "#print ('pi_edson =', pi_edson, 'pi_python=', pi)"
   ]
  },
  {
   "cell_type": "code",
   "execution_count": 6,
   "metadata": {},
   "outputs": [],
   "source": [
    "# Definicao das propriedades da fonte esferica:\n",
    "xc = 0.0 # metros\n",
    "zc = 0.5 # metros\n",
    "raio = 100.0 # metros\n",
    "rho = 2000.0 # kg/m3\n",
    "# volume da fonte\n",
    "V = (4.0/3.0) * pi * raio**3 * rho\n",
    "massa = V * rho\n",
    "#print (V, massa)"
   ]
  },
  {
   "cell_type": "code",
   "execution_count": 7,
   "metadata": {},
   "outputs": [],
   "source": [
    "#Definindo a funcao bolinha:\n",
    "rmin = 0\n",
    "rmax = 10\n",
    "r = np.linspace(rmin,rmax,num=10,endpoint=True)\n",
    "y = 2*pi*r"
   ]
  },
  {
   "cell_type": "code",
   "execution_count": 8,
   "metadata": {},
   "outputs": [
    {
     "name": "stdout",
     "output_type": "stream",
     "text": [
      "[   116134.75480065    126109.32958706    137420.29443192\n",
      "    150316.23976918    165106.0241412     182177.0797124     202020.49861555\n",
      "    225265.90439763    252730.68143931    285490.65758568\n",
      "    324983.47973531    373162.89168609    432734.13775241\n",
      "    507521.97609957    603061.44594535    727573.76444872\n",
      "    893628.03532925   1121058.58825706   1442227.83030915\n",
      "   1911655.20327844   2623160.54279798   3735390.53264555\n",
      "   5477134.99535041   7947719.36458153  10262221.82368716\n",
      "  10262221.82368716   7947719.36458153   5477134.99535041\n",
      "   3735390.53264555   2623160.54279798   1911655.20327844\n",
      "   1442227.83030915   1121058.58825706    893628.03532925\n",
      "    727573.76444872    603061.44594535    507521.97609957\n",
      "    432734.13775241    373162.89168609    324983.47973531\n",
      "    285490.65758568    252730.68143931    225265.90439763\n",
      "    202020.49861555    182177.0797124     165106.0241412     150316.23976918\n",
      "    137420.29443192    126109.32958706    116134.75480065]\n"
     ]
    }
   ],
   "source": [
    "# calculo da componente vertical gz:\n",
    "gz =  - G * massa * (z-zc) / ( (x-xc)**2 + (z-zc)**2 )**(3/2)\n",
    "gz *= si2mGal\n",
    "print (gz)\n",
    "np.savetxt('TODO_021',gz,header='Dados da componente vertical de gz lido em cada posição do Gravímetro')"
   ]
  },
  {
   "cell_type": "code",
   "execution_count": null,
   "metadata": {
    "scrolled": false
   },
   "outputs": [],
   "source": [
    "# plotando o resultado:\n",
    "plt.figure(figsize=(14,5))\n",
    "plt.subplot(1,2,1)\n",
    "plt.plot(x,gz,'r+')\n",
    "plt.title('Comonente Vertical $G_z$')\n",
    "plt.grid()\n",
    "plt.subplot(1,2,2)\n",
    "plt.plot(r,y,'ro')\n",
    "plt.title('Bolinha')\n",
    "plt.grid()\n",
    "plt.savefig('TODO_022.pdf',dpi=300, transparent=True, bbox_inches='tight')\n",
    "plt.show()"
   ]
  },
  {
   "cell_type": "markdown",
   "metadata": {},
   "source": [
    "## TODO:\n",
    "##  1) Subplot com a bolinha, colocando o tamanho da bolinha em funcao do raio\n",
    "##  2) Salvar a figura e o arquivo com os dados"
   ]
  },
  {
   "cell_type": "code",
   "execution_count": null,
   "metadata": {},
   "outputs": [],
   "source": [
    "plt.figure(figsize=(8,12))\n",
    "circle1=plt.Circle((xc,zc),radius=raio,color = 'r')\n",
    "plt.subplot(2,1,1)\n",
    "plt.plot(x,gz,'r+')\n",
    "plt.title('Comonente Vertical $G_z$')\n",
    "plt.grid()\n",
    "\n",
    "plt.subplot(2,1,2)\n",
    "plt.gcf().gca().add_artist(circle1)\n",
    "plt.title('Bolinha em subsuperficie')\n",
    "plt.grid()\n",
    "plt.xlim( (-2.0*raio,2.0*raio) )\n",
    "plt.ylim( (z, 2.0*zc ) )\n",
    "plt.gca().invert_yaxis()\n",
    "#plt.savefig('TODO_022.pdf', dpi=300, transparent=True, bbox_inches='tight')\n",
    "plt.savefig('TODO_023.pdf', dpi=300, transparent=True, bbox_inches='tight')\n",
    "\n",
    "plt.show()"
   ]
  },
  {
   "cell_type": "code",
   "execution_count": 9,
   "metadata": {},
   "outputs": [
    {
     "data": {
      "image/png": "[encoded data removed]",
      "text/plain": [
       "<Figure size 576x864 with 3 Axes>"
      ]
     },
     "metadata": {},
     "output_type": "display_data"
    }
   ],
   "source": [
    "#### Utilizando a funcao scatter (alternativamente):\n",
    "plt.figure(figsize=(8,12))\n",
    "plt.subplot(2,1,1)\n",
    "plt.plot(x,gz,'r-.')\n",
    "plt.title('Comonente Vertical $G_z$')\n",
    "plt.xlabel('Coordenada x (m)')\n",
    "plt.ylabel('mGal')\n",
    "plt.grid()\n",
    "\n",
    "############# PLOT DA FONTE PONTUAL #################################\n",
    "\n",
    "plt.subplot(2,1,2)\n",
    "plt.title('Bolinha em subsuperficie')\n",
    "\n",
    "p = plt.scatter(xc, zc, s=raio, c=rho )\n",
    "cbar = plt.colorbar(p, aspect=50, fraction = 0.03, orientation=\"vertical\")\n",
    "cbar.set_label('density ( $ kg/m^{3}$ )',fontsize=10, rotation = 90)\n",
    "plt.scatter(xc, zc, s=raio)\n",
    "plt.grid()\n",
    "plt.xlim( (-2.0*raio,2.0*raio) )\n",
    "plt.ylim( (z, 2.0*zc ) )\n",
    "plt.gca().invert_yaxis()\n",
    "#plt.savefig('TODO_022.pdf', dpi=300, transparent=True, bbox_inches='tight')\n",
    "plt.savefig('TODO_023.pdf', dpi=300, transparent=True, bbox_inches='tight')\n",
    "\n",
    "plt.show()"
   ]
  },
  {
   "cell_type": "markdown",
   "metadata": {},
   "source": [
    "# TODO: Verificar os plots usando a funcao scatter e a funcao edson!"
   ]
  },
  {
   "cell_type": "code",
   "execution_count": null,
   "metadata": {},
   "outputs": [],
   "source": []
  }
 ],
 "metadata": {
  "kernelspec": {
   "display_name": "Python 2",
   "language": "python",
   "name": "python2"
  },
  "language_info": {
   "codemirror_mode": {
    "name": "ipython",
    "version": 2
   },
   "file_extension": ".py",
   "mimetype": "text/x-python",
   "name": "python",
   "nbconvert_exporter": "python",
   "pygments_lexer": "ipython2",
   "version": "2.7.15"
  }
 },
 "nbformat": 4,
 "nbformat_minor": 2
}
