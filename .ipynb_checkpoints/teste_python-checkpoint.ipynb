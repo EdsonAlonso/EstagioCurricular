{
 "cells": [
  {
   "cell_type": "code",
   "execution_count": 3,
   "metadata": {},
   "outputs": [
    {
     "ename": "ImportError",
     "evalue": "libtk8.6.so: cannot open shared object file: No such file or directory",
     "output_type": "error",
     "traceback": [
      "\u001b[0;31m---------------------------------------------------------------------------\u001b[0m",
      "\u001b[0;31mImportError\u001b[0m                               Traceback (most recent call last)",
      "\u001b[0;32m<ipython-input-3-f1bcbb6aa40d>\u001b[0m in \u001b[0;36m<module>\u001b[0;34m()\u001b[0m\n\u001b[1;32m      3\u001b[0m \u001b[0;32mimport\u001b[0m \u001b[0mmatplotlib\u001b[0m\u001b[0;34m.\u001b[0m\u001b[0mpyplot\u001b[0m \u001b[0;32mas\u001b[0m \u001b[0mplt\u001b[0m\u001b[0;34m\u001b[0m\u001b[0m\n\u001b[1;32m      4\u001b[0m \u001b[0;32mfrom\u001b[0m \u001b[0mmatplotlib\u001b[0m\u001b[0;34m.\u001b[0m\u001b[0mpatches\u001b[0m \u001b[0;32mimport\u001b[0m \u001b[0mCircle\u001b[0m\u001b[0;34m\u001b[0m\u001b[0m\n\u001b[0;32m----> 5\u001b[0;31m \u001b[0;32mimport\u001b[0m \u001b[0mTkinter\u001b[0m\u001b[0;34m\u001b[0m\u001b[0m\n\u001b[0m",
      "\u001b[0;32m/usr/lib/python2.7/lib-tk/Tkinter.py\u001b[0m in \u001b[0;36m<module>\u001b[0;34m()\u001b[0m\n\u001b[1;32m     37\u001b[0m     \u001b[0;31m# Attempt to configure Tcl/Tk without requiring PATH\u001b[0m\u001b[0;34m\u001b[0m\u001b[0;34m\u001b[0m\u001b[0m\n\u001b[1;32m     38\u001b[0m     \u001b[0;32mimport\u001b[0m \u001b[0mFixTk\u001b[0m\u001b[0;34m\u001b[0m\u001b[0m\n\u001b[0;32m---> 39\u001b[0;31m \u001b[0;32mimport\u001b[0m \u001b[0m_tkinter\u001b[0m \u001b[0;31m# If this fails your Python may not be configured for Tk\u001b[0m\u001b[0;34m\u001b[0m\u001b[0m\n\u001b[0m\u001b[1;32m     40\u001b[0m \u001b[0mtkinter\u001b[0m \u001b[0;34m=\u001b[0m \u001b[0m_tkinter\u001b[0m \u001b[0;31m# b/w compat for export\u001b[0m\u001b[0;34m\u001b[0m\u001b[0m\n\u001b[1;32m     41\u001b[0m \u001b[0mTclError\u001b[0m \u001b[0;34m=\u001b[0m \u001b[0m_tkinter\u001b[0m\u001b[0;34m.\u001b[0m\u001b[0mTclError\u001b[0m\u001b[0;34m\u001b[0m\u001b[0m\n",
      "\u001b[0;31mImportError\u001b[0m: libtk8.6.so: cannot open shared object file: No such file or directory"
     ]
    }
   ],
   "source": [
    "# importando bibliotecas uteis em python:\n",
    "import numpy as np\n",
    "import matplotlib.pyplot as plt\n",
    "from matplotlib.patches import Circle"
   ]
  },
  {
   "cell_type": "code",
   "execution_count": 7,
   "metadata": {},
   "outputs": [
    {
     "name": "stdout",
     "output_type": "stream",
     "text": [
      "3.14159265359\n"
     ]
    }
   ],
   "source": [
    "# definicao do numero pi via numpy:\n",
    "pi = np.pi\n",
    "print pi"
   ]
  },
  {
   "cell_type": "code",
   "execution_count": 8,
   "metadata": {},
   "outputs": [
    {
     "name": "stdout",
     "output_type": "stream",
     "text": [
      "[1.00000000e+02 9.60004081e+01 9.20824406e+01 8.82460973e+01\n",
      " 8.44913784e+01 8.08182838e+01 7.72268136e+01 7.37169677e+01\n",
      " 7.02887460e+01 6.69421488e+01 6.36771758e+01 6.04938272e+01\n",
      " 5.73921028e+01 5.43720029e+01 5.14335272e+01 4.85766758e+01\n",
      " 4.58014488e+01 4.31078461e+01 4.04958678e+01 3.79655137e+01\n",
      " 3.55167840e+01 3.31496786e+01 3.08641975e+01 2.86603408e+01\n",
      " 2.65381084e+01 2.44975003e+01 2.25385165e+01 2.06611570e+01\n",
      " 1.88654219e+01 1.71513111e+01 1.55188246e+01 1.39679625e+01\n",
      " 1.24987246e+01 1.11111111e+01 9.80512193e+00 8.58075707e+00\n",
      " 7.43801653e+00 6.37690032e+00 5.39740843e+00 4.49954086e+00\n",
      " 3.68329762e+00 2.94867871e+00 2.29568411e+00 1.72431385e+00\n",
      " 1.23456790e+00 8.26446281e-01 4.99948985e-01 2.55076013e-01\n",
      " 9.18273646e-02 1.02030405e-02 1.02030405e-02 9.18273646e-02\n",
      " 2.55076013e-01 4.99948985e-01 8.26446281e-01 1.23456790e+00\n",
      " 1.72431385e+00 2.29568411e+00 2.94867871e+00 3.68329762e+00\n",
      " 4.49954086e+00 5.39740843e+00 6.37690032e+00 7.43801653e+00\n",
      " 8.58075707e+00 9.80512193e+00 1.11111111e+01 1.24987246e+01\n",
      " 1.39679625e+01 1.55188246e+01 1.71513111e+01 1.88654219e+01\n",
      " 2.06611570e+01 2.25385165e+01 2.44975003e+01 2.65381084e+01\n",
      " 2.86603408e+01 3.08641975e+01 3.31496786e+01 3.55167840e+01\n",
      " 3.79655137e+01 4.04958678e+01 4.31078461e+01 4.58014488e+01\n",
      " 4.85766758e+01 5.14335272e+01 5.43720029e+01 5.73921028e+01\n",
      " 6.04938272e+01 6.36771758e+01 6.69421488e+01 7.02887460e+01\n",
      " 7.37169677e+01 7.72268136e+01 8.08182838e+01 8.44913784e+01\n",
      " 8.82460973e+01 9.20824406e+01 9.60004081e+01 1.00000000e+02]\n"
     ]
    }
   ],
   "source": [
    "# definir um plot qualquer:\n",
    "x = np.linspace(-10.0, 10.0, 100, endpoint=True)\n",
    "y = x**2 #+ 2.0*x\n",
    "print y"
   ]
  },
  {
   "cell_type": "code",
   "execution_count": 9,
   "metadata": {},
   "outputs": [
    {
     "data": {
      "image/png": "[encoded data removed]",
      "text/plain": [
       "<Figure size 504x504 with 1 Axes>"
      ]
     },
     "metadata": {},
     "output_type": "display_data"
    }
   ],
   "source": [
    "# plotando um grafico x vs y:\n",
    "%matplotlib inline\n",
    "pyplot.figure(figsize=(7,7))\n",
    "pyplot.plot(x,y,'.b')\n",
    "pyplot.grid()\n",
    "pyplot.show()"
   ]
  },
  {
   "cell_type": "code",
   "execution_count": null,
   "metadata": {},
   "outputs": [],
   "source": []
  },
  {
   "cell_type": "code",
   "execution_count": null,
   "metadata": {},
   "outputs": [],
   "source": []
  }
 ],
 "metadata": {
  "kernelspec": {
   "display_name": "Python 2",
   "language": "python2",
   "name": "python2"
  },
  "language_info": {
   "codemirror_mode": {
    "name": "ipython",
    "version": 2
   },
   "file_extension": ".py",
   "mimetype": "text/x-python",
   "name": "python",
   "nbconvert_exporter": "python",
   "pygments_lexer": "ipython2",
   "version": "2.7.15"
  }
 },
 "nbformat": 4,
 "nbformat_minor": 2
}
