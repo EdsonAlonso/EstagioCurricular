{
 "cells": [
  {
   "cell_type": "markdown",
   "metadata": {},
   "source": [
    "## Several tests of different gravity models for verification:"
   ]
  },
  {
   "cell_type": "markdown",
   "metadata": {},
   "source": [
    ">### Teste 01: Modelo da haste fina: Neste teste verifica-se a implementacao da componente vertical da atração gravitacional produzida por uma haste fina com inclinação e seção vertical assumidas pelo usuario."
   ]
  },
  {
   "cell_type": "markdown",
   "metadata": {},
   "source": [
    "### Colocar a equação aqui:\n",
    "\n"
   ]
  },
  {
   "cell_type": "code",
   "execution_count": null,
   "metadata": {},
   "outputs": [],
   "source": [
    "# import das bibliotecas:\n",
    "import numpy as np\n",
    "import matplotlib.pyplot as plt\n",
    "from mpl_toolkits.mplot3d import Axes3D\n",
    "#from numpy import fft\n",
    "#exec()"
   ]
  },
  {
   "cell_type": "code",
   "execution_count": null,
   "metadata": {},
   "outputs": [],
   "source": [
    "from modules.gravity2D import g_rod,g_prism,g_sphere\n",
    "from modules.auxiliar  import linemasses"
   ]
  },
  {
   "cell_type": "code",
   "execution_count": null,
   "metadata": {},
   "outputs": [],
   "source": [
    "# definicao das posicoes de observacao:\n",
    "xmin  = -10.0\n",
    "xmax  = +10.0\n",
    "ndata = 500\n",
    "x = np.linspace(xmin, xmax, ndata, endpoint=False )\n",
    "z = np.zeros(len(x))"
   ]
  },
  {
   "cell_type": "code",
   "execution_count": null,
   "metadata": {},
   "outputs": [],
   "source": [
    "# criacao da linha de massas:\n",
    "p1= (0.0, 1.0)\n",
    "p2= (7.0, 10.2)\n",
    "nmassas = 30\n",
    "xs,zs = linemasses(p1,p2,nmassas)"
   ]
  },
  {
   "cell_type": "code",
   "execution_count": null,
   "metadata": {},
   "outputs": [],
   "source": [
    "# Definindo a massa da haste:\n",
    "m = np.zeros( len(xs) ) + 100.0\n",
    "gs = g_sphere(x,z,[xs,zs,m])"
   ]
  },
  {
   "cell_type": "code",
   "execution_count": null,
   "metadata": {},
   "outputs": [],
   "source": [
    "# definicao da haste:\n",
    "haste = [0.0, 0.2, 100.0, 75.0, 1000.0, 1.0] # [xrod(m), zrod(m), len_rod(m), dip_angle(degree), density(kg/m3, CrossSec(m2) ]\n",
    "prism = [1.0, 1.0, 100.0, 1000.0, 1.0] # [x,h1, len, rho, CrossSection]"
   ]
  },
  {
   "cell_type": "code",
   "execution_count": null,
   "metadata": {},
   "outputs": [],
   "source": [
    "gz_haste = g_rod(x,z,haste)\n",
    "gz_prism = g_prism(x,z,prism)"
   ]
  },
  {
   "cell_type": "code",
   "execution_count": null,
   "metadata": {},
   "outputs": [],
   "source": [
    "plt.figure(figsize=(10,12), facecolor='w')\n",
    "plt.subplot(211)\n",
    "plt.plot(x,gs,'.-r')\n",
    "plt.grid()\n",
    "#########################################\n",
    "plt.subplot(212)\n",
    "plt.plot(xs,zs,'o-k')\n",
    "plt.xlim(min(x), max(x) )\n",
    "plt.gca().invert_yaxis()\n",
    "plt.grid()\n",
    "plt.show()"
   ]
  },
  {
   "cell_type": "markdown",
   "metadata": {},
   "source": [
    "### TODO: Fazer o modulo auxiliars para limpar a implementação (HÁ UM ERRO A SER LOCALIZADO!!!!!!)"
   ]
  },
  {
   "cell_type": "code",
   "execution_count": null,
   "metadata": {},
   "outputs": [],
   "source": []
  }
 ],
 "metadata": {
  "kernelspec": {
   "display_name": "Python 3",
   "language": "python",
   "name": "python3"
  },
  "language_info": {
   "codemirror_mode": {
    "name": "ipython",
    "version": 3
   },
   "file_extension": ".py",
   "mimetype": "text/x-python",
   "name": "python",
   "nbconvert_exporter": "python",
   "pygments_lexer": "ipython3",
   "version": "3.6.6"
  }
 },
 "nbformat": 4,
 "nbformat_minor": 2
}
