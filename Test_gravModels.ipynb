{
 "cells": [
  {
   "cell_type": "markdown",
   "metadata": {},
   "source": [
    "## Several tests of different gravity models for verification:"
   ]
  },
  {
   "cell_type": "markdown",
   "metadata": {},
   "source": [
    ">### Teste 01: Modelo da haste fina: Neste teste verifica-se a implementacao da componente vertical da atração gravitacional produzida por uma haste fina com inclinação e seção vertical assumidas pelo usuario."
   ]
  },
  {
   "cell_type": "markdown",
   "metadata": {},
   "source": [
    "### Colocar a equação aqui:\n",
    "\n"
   ]
  },
  {
   "cell_type": "code",
   "execution_count": null,
   "metadata": {},
   "outputs": [],
   "source": [
    "# import das bibliotecas:\n",
    "import numpy as np\n",
    "import matplotlib.pyplot as plt\n",
    "from mpl_toolkits.mplot3d import Axes3D\n",
    "#from numpy import fft\n",
    "#exec()"
   ]
  },
  {
   "cell_type": "code",
   "execution_count": null,
   "metadata": {},
   "outputs": [],
   "source": [
    "from modules.gravity2D import g_rod,g_prism,g_sphere,g_finit_sheet,g_semifin_sheet\n",
    "from modules.auxiliar  import linemasses\n",
    "from modules.plots import rectangle,draw_finite_sheet,draw_infinite_sheet"
   ]
  },
  {
   "cell_type": "code",
   "execution_count": null,
   "metadata": {},
   "outputs": [],
   "source": [
    "# definicao das posicoes de observacao:\n",
    "xmin  = -10.0\n",
    "xmax  = +10.0\n",
    "ndata = 300\n",
    "x = np.linspace(xmin, xmax, ndata, endpoint=False )\n",
    "z = np.zeros(len(x))"
   ]
  },
  {
   "cell_type": "code",
   "execution_count": null,
   "metadata": {},
   "outputs": [],
   "source": [
    "# criacao da linha de massas:\n",
    "p1= (2.0, 1.0)\n",
    "p2= (6.0, 1.0)\n",
    "theta = np.arctan2( (p2[1] - p1[1]), (p2[0] - p1[0]) )\n",
    "nmassas = 300\n",
    "xs,zs = linemasses(p1,p2,nmassas)"
   ]
  },
  {
   "cell_type": "code",
   "execution_count": null,
   "metadata": {},
   "outputs": [],
   "source": [
    "# Definindo a massa da haste sintetica:\n",
    "m = np.zeros( nmassas ) + 1000.0\n",
    "gs = g_sphere(x,z,[xs,zs,m],component='z')"
   ]
  },
  {
   "cell_type": "code",
   "execution_count": null,
   "metadata": {},
   "outputs": [],
   "source": [
    "plt.figure(figsize=(10,12), facecolor='w')\n",
    "plt.subplot(211)\n",
    "plt.plot(x,gs,'-r')\n",
    "plt.grid()\n",
    "#########################################\n",
    "plt.subplot(212)\n",
    "plt.plot(xs,zs,'o-k')\n",
    "plt.xlim(min(x), max(x) )\n",
    "plt.gca().invert_yaxis()\n",
    "plt.grid()\n",
    "plt.show()"
   ]
  },
  {
   "cell_type": "code",
   "execution_count": null,
   "metadata": {},
   "outputs": [],
   "source": [
    "# [x, z, dens, dip, length, thickness]\n",
    "f_sheet = [2.5, 2.0, 2.6e12, 0.0, 6.0, 0.1]\n",
    "gf = g_finit_sheet(x,z,f_sheet)"
   ]
  },
  {
   "cell_type": "code",
   "execution_count": null,
   "metadata": {},
   "outputs": [],
   "source": [
    "xsf,zsf = draw_finite_sheet(sheet=f_sheet,draw=False)"
   ]
  },
  {
   "cell_type": "code",
   "execution_count": null,
   "metadata": {},
   "outputs": [],
   "source": [
    "plt.figure(figsize=(10,10),facecolor='w')\n",
    "plt.subplot(211)\n",
    "plt.plot(x,gf,'.-r')\n",
    "plt.xlim(xmin,xmax)\n",
    "plt.grid()\n",
    "\n",
    "plt.subplot(212)\n",
    "plt.plot(xsf,zsf,'r')\n",
    "plt.xlim(xmin,xmax)\n",
    "plt.ylim(0, 10)\n",
    "plt.grid()\n",
    "plt.gca().invert_yaxis()\n",
    "\n",
    "plt.show()"
   ]
  },
  {
   "cell_type": "code",
   "execution_count": null,
   "metadata": {},
   "outputs": [],
   "source": [
    "# [x, z, rho, thickness]\n",
    "isheet = [-3.0, 1.0, 100000.0, 0.1]\n",
    "gi = g_semifin_sheet(x,z,isheet)"
   ]
  },
  {
   "cell_type": "code",
   "execution_count": null,
   "metadata": {},
   "outputs": [],
   "source": [
    "xsi,zsi = draw_infinite_sheet(sheet=isheet,xmax=xmax)"
   ]
  },
  {
   "cell_type": "code",
   "execution_count": null,
   "metadata": {},
   "outputs": [],
   "source": [
    "plt.figure(figsize=(10,10),facecolor='w')\n",
    "plt.subplot(211)\n",
    "plt.plot(x,gi,'.-r')\n",
    "plt.xlim(xmin,xmax)\n",
    "plt.grid()\n",
    "\n",
    "plt.subplot(212)\n",
    "plt.plot(xsi,zsi,'r')\n",
    "plt.xlim(xmin,xmax)\n",
    "plt.ylim(0, 10)\n",
    "plt.grid()\n",
    "plt.gca().invert_yaxis()\n",
    "\n",
    "plt.show()"
   ]
  },
  {
   "cell_type": "markdown",
   "metadata": {},
   "source": [
    "## TODO:<br>\n",
    "> ### - ENCONTRAR O BUG NO PLOT DA FOLHA FINITA; <br>\n",
    "> ### - TRANSFORMAR NUMA 'FUNCTION' DENTRO DE UM MODULO ESPECIFICADO; <br>\n",
    "> ### - EXTENDER PARA A FOLHA INFINITA;\n",
    "\n",
    ">\n",
    "# FEITO!! :D"
   ]
  },
  {
   "cell_type": "code",
   "execution_count": null,
   "metadata": {},
   "outputs": [],
   "source": []
  }
 ],
 "metadata": {
  "kernelspec": {
   "display_name": "Python 3",
   "language": "python",
   "name": "python3"
  },
  "language_info": {
   "codemirror_mode": {
    "name": "ipython",
    "version": 3
   },
   "file_extension": ".py",
   "mimetype": "text/x-python",
   "name": "python",
   "nbconvert_exporter": "python",
   "pygments_lexer": "ipython3",
   "version": "3.6.5"
  }
 },
 "nbformat": 4,
 "nbformat_minor": 2
}
