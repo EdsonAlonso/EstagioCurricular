{
 "cells": [
  {
   "cell_type": "code",
   "execution_count": 1,
   "metadata": {},
   "outputs": [],
   "source": [
    "# importando bibliotecas uteis em python:\n",
    "import numpy as np\n",
    "from matplotlib.patches import Circle\n",
    "from matplotlib.patches import Ellipse\n",
    "import matplotlib.pyplot as plt\n",
    "from random import randint\n",
    "from random import random"
   ]
  },
  {
   "cell_type": "markdown",
   "metadata": {},
   "source": [
    "### Script para simular um perfil sintético gravimétrico. A fonte enterrada é uma esfera (fonte pontual) localizada nas coordenadas cartesianas (xc, zc) definidas pelo usuário.\n",
    "\n",
    "### A equação que computa a componente vertical (z) da atração gravitacional produzida por uma fonte pontual é :\n",
    "# $g_z = -G\\frac{m (z-zc)}{((x-xc)^2 + (z-zc)^2)^{3/2}}$\n"
   ]
  },
  {
   "cell_type": "code",
   "execution_count": 2,
   "metadata": {},
   "outputs": [],
   "source": [
    "# definindo as posicoes final e inicial do gravimetro em funcao das coordenadas do perfil sintetico:\n",
    "min = randint(0,10) #Sorteando a posição inicial do Gravímetro.\n",
    "max = randint(0,10) #Sorteando a posição final do Gravímetro.\n",
    "if min > max:       #Caso o mínimo e o máximo estiverem trocados.\n",
    "    min = max\n",
    "    max = min\n",
    "else:\n",
    "    min = min\n",
    "    max = max\n",
    "if min == max:      #Caso o mínimo e o máximo forem iguais.\n",
    "    min = randint(0,max)\n",
    "    max = randint(min,10)\n",
    "#print(min, max)"
   ]
  },
  {
   "cell_type": "code",
   "execution_count": 3,
   "metadata": {},
   "outputs": [],
   "source": [
    "# definicao das coordenadas do perfil sintetico:\n",
    "xmin = -100.0 # minimo do perfil\n",
    "xmax = +100.0 # maximo do perfil\n",
    "n = 50 # numero de pontos do perfil\n",
    "x = np.linspace(xmin, xmax, n, endpoint= True ) # coordenadas x do perfil\n",
    "\n",
    "# altura das medidas:\n",
    "z = -10.0"
   ]
  },
  {
   "cell_type": "code",
   "execution_count": 4,
   "metadata": {},
   "outputs": [],
   "source": [
    "# definicao das coordenadas do perfil sintetico via edson brain!\n",
    "coord = list(range(10))   #Estou supondo 10 Gravímetros pois me parece um bom número para conferir o funcionamento do programa.\n",
    "for n in range(0,10):\n",
    "    coord[n] = (x[n],0)   #A coordenada z vai ser sempre 0, pois os Gravímetros estão na superfície.\n",
    "#print (coord[0][1])"
   ]
  },
  {
   "cell_type": "code",
   "execution_count": 5,
   "metadata": {},
   "outputs": [],
   "source": [
    "#DEFININDO ALGUMAS CONSTANTES\n",
    "G = 6.674*(10**(-11)) # constante universal no SI:\n",
    "si2mGal = 100000.0 # conversor de unidades\n",
    "pi_edson = 3.1415 # não presi\n",
    "pi = np.pi\n",
    "#print ('pi_edson =', pi_edson, 'pi_python=', pi)"
   ]
  },
  {
   "cell_type": "code",
   "execution_count": 6,
   "metadata": {},
   "outputs": [],
   "source": [
    "# Definicao das propriedades da fonte esferica:\n",
    "xc = 0.0\n",
    "zc = 150.0\n",
    "raio = 20.0\n",
    "rho = 2000.0\n",
    "V = (4.0/3.0) * pi * raio**3 * rho\n",
    "massa = V*rho\n",
    "#print (V, massa)"
   ]
  },
  {
   "cell_type": "code",
   "execution_count": 7,
   "metadata": {},
   "outputs": [],
   "source": [
    "#Definindo a funcao bolinha:\n",
    "rmin = 0\n",
    "rmax = 10\n",
    "r = np.linspace(rmin,rmax,num=10,endpoint=True)\n",
    "y = 2*pi*r"
   ]
  },
  {
   "cell_type": "code",
   "execution_count": 8,
   "metadata": {},
   "outputs": [
    {
     "name": "stdout",
     "output_type": "stream",
     "text": [
      "[21.30932905 22.04802382 22.79688728 23.55372948 24.31607111 25.08113802\n",
      " 25.84586034 26.60687722 27.36054783 28.10296942 28.830003   29.53730709\n",
      " 30.22037967 30.87460835 31.4953281  32.07788611 32.61771225 33.11039387\n",
      " 33.55175289 33.93792319 34.26542572 34.53123904 34.73286268 34.86837109\n",
      " 34.93645608 34.93645608 34.86837109 34.73286268 34.53123904 34.26542572\n",
      " 33.93792319 33.55175289 33.11039387 32.61771225 32.07788611 31.4953281\n",
      " 30.87460835 30.22037967 29.53730709 28.830003   28.10296942 27.36054783\n",
      " 26.60687722 25.84586034 25.08113802 24.31607111 23.55372948 22.79688728\n",
      " 22.04802382 21.30932905]\n"
     ]
    }
   ],
   "source": [
    "# calculo da componente vertical gz:\n",
    "gz =  - G * massa * (z-zc) / ( (x-xc)**2 + (z-zc)**2 )**(3/2)\n",
    "gz *= si2mGal\n",
    "print (gz)\n",
    "np.savetxt('TODO_021',gz,header='Dados da componente vertical de gz lido em cada posição do Gravímetro')"
   ]
  },
  {
   "cell_type": "code",
   "execution_count": 9,
   "metadata": {
    "scrolled": false
   },
   "outputs": [
    {
     "data": {
      "image/png": "[encoded data removed]",
      "text/plain": [
       "<Figure size 1008x360 with 2 Axes>"
      ]
     },
     "metadata": {},
     "output_type": "display_data"
    }
   ],
   "source": [
    "# plotando o resultado:\n",
    "plt.figure(figsize=(14,5))\n",
    "plt.subplot(1,2,1)\n",
    "plt.plot(x,gz,'r+')\n",
    "plt.title('Comonente Vertical $G_z$')\n",
    "plt.grid()\n",
    "plt.subplot(1,2,2)\n",
    "plt.plot(r,y,'ro')\n",
    "plt.title('Bolinha')\n",
    "plt.grid()\n",
    "plt.savefig('TODO_022.jpeg')\n",
    "plt.show()"
   ]
  },
  {
   "cell_type": "markdown",
   "metadata": {},
   "source": [
    "## TODO:\n",
    "##  1) Subplot com a bolinha, colocando o tamanho da bolinha em funcao do raio\n",
    "##  2) Salvar a figura e o arquivo com os dados"
   ]
  },
  {
   "cell_type": "code",
   "execution_count": 10,
   "metadata": {},
   "outputs": [
    {
     "data": {
      "image/png": "[encoded data removed]",
      "text/plain": [
       "<Figure size 576x864 with 2 Axes>"
      ]
     },
     "metadata": {},
     "output_type": "display_data"
    }
   ],
   "source": [
    "circle1=plt.Circle((xc,-zc),radius=raio,color = 'r')\n",
    "plt.figure(figsize=(8,12))\n",
    "plt.subplot(2,1,1)\n",
    "plt.plot(x,gz,'r+')\n",
    "plt.title('Comonente Vertical $G_z$')\n",
    "plt.grid()\n",
    "plt.subplot(2,1,2)\n",
    "plt.gcf().gca().add_artist(circle1)\n",
    "plt.title('Bolinha em subsuperfície')\n",
    "plt.grid()\n",
    "plt.xlim((-xc-1.5*zc,xc+1.5*zc))\n",
    "plt.ylim((-2*zc,0))\n",
    "plt.savefig('TODO_023.jpeg')\n",
    "plt.show()"
   ]
  },
  {
   "cell_type": "code",
   "execution_count": null,
   "metadata": {},
   "outputs": [],
   "source": []
  }
 ],
 "metadata": {
  "kernelspec": {
   "display_name": "Python 3",
   "language": "python",
   "name": "python3"
  },
  "language_info": {
   "codemirror_mode": {
    "name": "ipython",
    "version": 3
   },
   "file_extension": ".py",
   "mimetype": "text/x-python",
   "name": "python",
   "nbconvert_exporter": "python",
   "pygments_lexer": "ipython3",
   "version": "3.6.6"
  }
 },
 "nbformat": 4,
 "nbformat_minor": 2
}
