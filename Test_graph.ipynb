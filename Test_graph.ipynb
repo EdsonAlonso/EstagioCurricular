{
 "cells": [
  {
   "cell_type": "markdown",
   "metadata": {},
   "source": [
    "# Script for studying the use of graphs in python:"
   ]
  },
  {
   "cell_type": "code",
   "execution_count": 1,
   "metadata": {},
   "outputs": [],
   "source": [
    "import numpy as np\n",
    "from random import uniform,randint\n",
    "import matplotlib.pyplot as plt\n",
    "from scipy.spatial.distance import mahalanobis\n",
    "from scipy import signal\n",
    "import networkx as nx\n",
    "import math\n",
    "from numpy import meshgrid\n",
    "#import jgraph as ig\n",
    "from six.moves import input"
   ]
  },
  {
   "cell_type": "code",
   "execution_count": 2,
   "metadata": {},
   "outputs": [],
   "source": [
    "from modules.distances import l1dist, l2dist, distgraph"
   ]
  },
  {
   "cell_type": "code",
   "execution_count": 3,
   "metadata": {},
   "outputs": [],
   "source": [
    "## Sorting point masses into the 2D space:\n",
    "xmin = -10.0\n",
    "xmax = +10.0\n",
    "ymin = -10.0\n",
    "ymax = +10.0\n",
    "npoints = 20\n",
    "x = np.zeros(npoints)\n",
    "y = np.zeros(npoints)\n",
    "node = np.zeros(npoints)"
   ]
  },
  {
   "cell_type": "code",
   "execution_count": null,
   "metadata": {},
   "outputs": [],
   "source": []
  },
  {
   "cell_type": "code",
   "execution_count": null,
   "metadata": {},
   "outputs": [],
   "source": []
  },
  {
   "cell_type": "code",
   "execution_count": 4,
   "metadata": {},
   "outputs": [
    {
     "name": "stdout",
     "output_type": "stream",
     "text": [
      "[-2.4994077  -0.6392563  -0.89914935 -5.17979699 -4.71146748  6.03099054\n",
      " -0.02604369  5.8260254   7.0259983  -1.60905052 -4.61763032  1.97827024\n",
      " -8.010162   -2.80409781  8.20629294 -2.83120919  7.22043956 -1.91526508\n",
      " -5.19348181 -8.96532823] [-1.21413798e+00 -4.87106843e+00  2.65425667e+00  4.15820962e-01\n",
      " -3.29302044e+00  2.88294643e+00 -8.17274143e+00 -2.24568296e+00\n",
      "  7.01010903e+00 -6.37247810e+00 -7.73650523e-03  2.93171315e+00\n",
      " -4.04922178e+00 -4.52407224e+00  1.47844261e+00  8.12644029e+00\n",
      "  4.02852242e+00  5.72317934e+00  1.00291049e+00 -9.08157153e+00] [ 0.  1.  2.  3.  4.  5.  6.  7.  8.  9. 10. 11. 12. 13. 14. 15. 16. 17.\n",
      " 18. 19.]\n"
     ]
    }
   ],
   "source": [
    "for i in range(npoints):\n",
    "    node[i] = int(i)\n",
    "    x[i] = uniform(xmin,xmax)\n",
    "    y[i] = uniform(ymin,ymax)\n",
    "print (x), y, node"
   ]
  },
  {
   "cell_type": "code",
   "execution_count": 17,
   "metadata": {},
   "outputs": [
    {
     "name": "stdout",
     "output_type": "stream",
     "text": [
      "[[1. 0. 0. 0. 0. 0. 0. 0. 0. 0. 0. 0. 0. 0. 0. 0. 0. 0. 0. 0.]\n",
      " [0. 1. 0. 0. 0. 0. 0. 0. 0. 0. 0. 0. 0. 0. 0. 0. 0. 0. 0. 0.]\n",
      " [0. 0. 1. 0. 0. 0. 0. 0. 0. 0. 0. 0. 0. 0. 0. 0. 0. 0. 0. 0.]\n",
      " [0. 0. 0. 1. 0. 0. 0. 0. 0. 0. 0. 0. 0. 0. 0. 0. 0. 0. 0. 0.]\n",
      " [0. 0. 0. 0. 1. 0. 0. 0. 0. 0. 0. 0. 0. 0. 0. 0. 0. 0. 0. 0.]\n",
      " [0. 0. 0. 0. 0. 1. 0. 0. 0. 0. 0. 0. 0. 0. 0. 0. 0. 0. 0. 0.]\n",
      " [0. 0. 0. 0. 0. 0. 1. 0. 0. 0. 0. 0. 0. 0. 0. 0. 0. 0. 0. 0.]\n",
      " [0. 0. 0. 0. 0. 0. 0. 1. 0. 0. 0. 0. 0. 0. 0. 0. 0. 0. 0. 0.]\n",
      " [0. 0. 0. 0. 0. 0. 0. 0. 1. 0. 0. 0. 0. 0. 0. 0. 0. 0. 0. 0.]\n",
      " [0. 0. 0. 0. 0. 0. 0. 0. 0. 1. 0. 0. 0. 0. 0. 0. 0. 0. 0. 0.]\n",
      " [0. 0. 0. 0. 0. 0. 0. 0. 0. 0. 1. 0. 0. 0. 0. 0. 0. 0. 0. 0.]\n",
      " [0. 0. 0. 0. 0. 0. 0. 0. 0. 0. 0. 1. 0. 0. 0. 0. 0. 0. 0. 0.]\n",
      " [0. 0. 0. 0. 0. 0. 0. 0. 0. 0. 0. 0. 1. 0. 0. 0. 0. 0. 0. 0.]\n",
      " [0. 0. 0. 0. 0. 0. 0. 0. 0. 0. 0. 0. 0. 1. 0. 0. 0. 0. 0. 0.]\n",
      " [0. 0. 0. 0. 0. 0. 0. 0. 0. 0. 0. 0. 0. 0. 1. 0. 0. 0. 0. 0.]\n",
      " [0. 0. 0. 0. 0. 0. 0. 0. 0. 0. 0. 0. 0. 0. 0. 1. 0. 0. 0. 0.]\n",
      " [0. 0. 0. 0. 0. 0. 0. 0. 0. 0. 0. 0. 0. 0. 0. 0. 1. 0. 0. 0.]\n",
      " [0. 0. 0. 0. 0. 0. 0. 0. 0. 0. 0. 0. 0. 0. 0. 0. 0. 1. 0. 0.]\n",
      " [0. 0. 0. 0. 0. 0. 0. 0. 0. 0. 0. 0. 0. 0. 0. 0. 0. 0. 1. 0.]\n",
      " [0. 0. 0. 0. 0. 0. 0. 0. 0. 0. 0. 0. 0. 0. 0. 0. 0. 0. 0. 1.]]\n"
     ]
    }
   ],
   "source": [
    "M = np.array( (x,y) )\n",
    "C = np.cov( M.T )\n",
    "IC = np.eye(20)\n",
    "print IC"
   ]
  },
  {
   "cell_type": "code",
   "execution_count": 16,
   "metadata": {},
   "outputs": [
    {
     "name": "stdout",
     "output_type": "stream",
     "text": [
      "(20, 20)\n"
     ]
    }
   ],
   "source": [
    "invC = np.linalg.inv(C)\n",
    "print np.shape(invC)\n",
    "\n",
    "invC *=1.0"
   ]
  },
  {
   "cell_type": "code",
   "execution_count": 22,
   "metadata": {},
   "outputs": [
    {
     "data": {
      "text/plain": [
       "23.29626921724097"
      ]
     },
     "execution_count": 22,
     "metadata": {},
     "output_type": "execute_result"
    }
   ],
   "source": [
    "mahalanobis(x,y, IC )"
   ]
  },
  {
   "cell_type": "code",
   "execution_count": 27,
   "metadata": {},
   "outputs": [
    {
     "name": "stdout",
     "output_type": "stream",
     "text": [
      "23.29626921724097\n"
     ]
    }
   ],
   "source": [
    "print np.sqrt(np.dot( (x-y),(x-y) ))"
   ]
  },
  {
   "cell_type": "code",
   "execution_count": null,
   "metadata": {},
   "outputs": [],
   "source": [
    "###--------##########################\n",
    "plt.figure( figsize=(10,10), facecolor='w' )\n",
    "p1 = plt.plot(x, y, color='red', marker='o', linestyle='solid',\n",
    "        linewidth=1, markersize=16 )\n",
    "\n",
    "plt.title('Bolinhas')\n",
    "plt.grid()\n",
    "\n",
    "plt.xlim( min(x)-1.0, max(x)+1.0 )\n",
    "plt.ylim( min(y)-1.0, max(y)+1.0 )\n",
    "\n",
    "plt.gca().invert_yaxis()\n",
    "plt.savefig('test_graph.png',dpi=300,transparent=True)\n",
    "plt.show()"
   ]
  },
  {
   "cell_type": "code",
   "execution_count": null,
   "metadata": {},
   "outputs": [],
   "source": [
    "# Lets see what's going on here:\n",
    "S = nx.Graph()\n",
    "for i in range(npoints):\n",
    "    S.add_node(i ,pos=(x[i],y[i]))\n",
    "    for j in range(npoints):\n",
    "        S.add_edge(i,j,weight=l2dist(x,y)[i][j])\n",
    "TS = nx.minimum_spanning_tree(S)"
   ]
  },
  {
   "cell_type": "code",
   "execution_count": null,
   "metadata": {},
   "outputs": [],
   "source": [
    "plt.figure(figsize=(12,6))\n",
    "plt.subplot(121)\n",
    "nx.draw(S)\n",
    "plt.subplot(122)\n",
    "nx.draw(TS)\n",
    "plt.show()"
   ]
  },
  {
   "cell_type": "code",
   "execution_count": null,
   "metadata": {},
   "outputs": [],
   "source": [
    "#TENTANDO COLOCAR LABELS NOS VERTICES\n",
    "nx.draw(TS, with_labels = True)\n",
    "plt.savefig('labels.png')"
   ]
  },
  {
   "cell_type": "markdown",
   "metadata": {},
   "source": [
    "# TODO: Entender as saidas do MST para podermos calcular a funcao de equidistancia para calcular a funcao $\\theta$\n",
    "\n",
    "># <center> $\\theta = \\sum_i (d_{mst}^i - \\overline{d_{mst}})^2$"
   ]
  },
  {
   "cell_type": "code",
   "execution_count": null,
   "metadata": {},
   "outputs": [],
   "source": [
    "#CALCULANDO O PHI VIA A FUNCAO CRIADA\n",
    "phi, dmst = distgraph(TS)\n",
    "print(phi, dmst)"
   ]
  },
  {
   "cell_type": "code",
   "execution_count": null,
   "metadata": {},
   "outputs": [],
   "source": [
    "### Plot da Arvore Minima em coordenadas 2D:\n",
    "plt.figure( figsize=(10,10), facecolor='w' )\n",
    "bbox_props = dict(boxstyle=\"round,pad=0.1\", fc=\"white\", ec=\"b\", lw=1)\n",
    "\n",
    "for (i, j, d) in TS.edges.data('weight'):\n",
    "    xt = [ x[i], x[j] ]\n",
    "    yt = [ y[i], y[j] ]\n",
    "    print i, x[i] ,y[i] , j, x[j] , y[j]\n",
    "    plt.annotate( int(node[i]), xy=(x[i],y[i]) , bbox=bbox_props)\n",
    "    plt.annotate( int(node[j]), xy=(x[j],y[j]) , bbox=bbox_props)\n",
    "    plt.plot(xt,yt,'.-')\n",
    "\n",
    "plt.grid()\n",
    "p1 = plt.plot(x, y, 'ko', marker='o' )\n",
    "plt.gca().invert_yaxis()\n",
    "#plt.savefig('L2dist.pdf')\n",
    "plt.show()"
   ]
  },
  {
   "cell_type": "markdown",
   "metadata": {},
   "source": [
    "# TODO: Fazer testes simples para verificar a função distGraf:\n",
    "> 1) um circulo de pontos igualmente espaçados e aleatorios; <br>\n",
    "> 2) um retangulo de pontos igualmente espaçados e aleatórios; <br>\n",
    "> 3) plotar a àrvore com os índices dos vértices para identificação;<br>"
   ]
  },
  {
   "cell_type": "code",
   "execution_count": null,
   "metadata": {},
   "outputs": [],
   "source": [
    "#PLOTA UM L PARA TESTAR A FUNCAO DISTGRAPH E O NETWORKX\n",
    "ax = np.linspace(-5,5,npoints)\n",
    "ay = np.zeros(npoints)\n",
    "ay = 5 + ay\n",
    "by = np.linspace(-5,5,npoints)\n",
    "bx = np.zeros(npoints)\n",
    "bx = -5 + bx\n",
    "ax1 = np.linspace(-5,5,npoints)\n",
    "ay1 = np.zeros(npoints)\n",
    "ay1 = -5 + ay1\n",
    "by1 = np.linspace(-5,5,npoints)\n",
    "bx1 = np.zeros(npoints)\n",
    "bx1 = 5 + bx1\n",
    "\n",
    "a = np.zeros(2*npoints)\n",
    "b = np.zeros(2*npoints)\n",
    "\n",
    "for i in range(0,npoints):\n",
    "    a[i] = ax[i]\n",
    "for i in range(npoints,2*npoints):\n",
    "    a[i] = ay[i - npoints]\n",
    "b = np.zeros(2*npoints)\n",
    "for i in range(0,npoints):\n",
    "    b[i] = bx[i]\n",
    "for i in range(npoints+1,2*npoints):\n",
    "    b[i] = by[i - npoints]\n",
    "L = (a,b)\n",
    "plt.plot(a,b)\n",
    "plt.grid()\n",
    "plt.show()"
   ]
  },
  {
   "cell_type": "code",
   "execution_count": null,
   "metadata": {},
   "outputs": [],
   "source": [
    "S1 = nx.Graph()\n",
    "for i in range(2*npoints):\n",
    "    S1.add_node(i ,pos=(L[0][i],L[1][i]))\n",
    "    for j in range(2*npoints):\n",
    "        S1.add_edge(i,j,weight=l2dist(a,b)[i][j])\n",
    "TS1 = nx.minimum_spanning_tree(S1)"
   ]
  },
  {
   "cell_type": "code",
   "execution_count": null,
   "metadata": {},
   "outputs": [],
   "source": [
    "plt.figure(figsize=(12,6))\n",
    "plt.subplot(121)\n",
    "nx.draw(S1)\n",
    "plt.subplot(122)\n",
    "nx.draw(TS1)\n",
    "plt.show()"
   ]
  },
  {
   "cell_type": "code",
   "execution_count": null,
   "metadata": {},
   "outputs": [],
   "source": [
    "#Calculating the phi funtcion and the mean\n",
    "phi1, dmst1 = distgraph(TS1)\n",
    "print(phi1, dmst1) #this makes sense since the average is close enough to every point"
   ]
  },
  {
   "cell_type": "code",
   "execution_count": null,
   "metadata": {},
   "outputs": [],
   "source": [
    "### Plot da Arvore Minima em coordenadas 2D:\n",
    "plt.figure( figsize=(10,10) )\n",
    "for (i, j, d) in TS1.edges.data('weight'): \n",
    "    print(d)\n",
    "    at = [ a[i], a[j] ]\n",
    "    bt = [ b[i], b[j] ]\n",
    "    plt.plot(at,bt,'.-')\n",
    "plt.grid()\n",
    "plt.savefig('L2dist.pdf')\n",
    "plt.show()"
   ]
  },
  {
   "cell_type": "code",
   "execution_count": null,
   "metadata": {},
   "outputs": [],
   "source": []
  },
  {
   "cell_type": "code",
   "execution_count": null,
   "metadata": {},
   "outputs": [],
   "source": [
    "np.cov"
   ]
  }
 ],
 "metadata": {
  "kernelspec": {
   "display_name": "Python 2",
   "language": "python",
   "name": "python2"
  },
  "language_info": {
   "codemirror_mode": {
    "name": "ipython",
    "version": 2
   },
   "file_extension": ".py",
   "mimetype": "text/x-python",
   "name": "python",
   "nbconvert_exporter": "python",
   "pygments_lexer": "ipython2",
   "version": "2.7.15"
  }
 },
 "nbformat": 4,
 "nbformat_minor": 2
}
