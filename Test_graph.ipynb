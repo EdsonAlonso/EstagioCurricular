{
 "cells": [
  {
   "cell_type": "markdown",
   "metadata": {},
   "source": [
    "# Script for studying the use of graphs in python:"
   ]
  },
  {
   "cell_type": "code",
   "execution_count": null,
   "metadata": {},
   "outputs": [],
   "source": [
    "import numpy as np\n",
    "from random import uniform,randint\n",
    "import matplotlib.pyplot as plt\n",
    "from scipy.spatial.distance import mahalanobis\n",
    "import networkx as nx\n",
    "from time import sleep\n",
    "import pandas as pd"
   ]
  },
  {
   "cell_type": "code",
   "execution_count": null,
   "metadata": {},
   "outputs": [],
   "source": [
    "from modules.distances import l1dist, l2dist, distgraph,distgraphl1,distgraphmaha"
   ]
  },
  {
   "cell_type": "code",
   "execution_count": null,
   "metadata": {},
   "outputs": [],
   "source": [
    "## Sorting point masses into the 2D space:\n",
    "xmin = -10.0\n",
    "xmax = +10.0\n",
    "ymin = -10.0\n",
    "ymax = +10.0\n",
    "npoints = 15\n",
    "x = np.zeros(npoints)\n",
    "y = np.zeros(npoints)\n",
    "node = np.zeros(npoints)"
   ]
  },
  {
   "cell_type": "code",
   "execution_count": null,
   "metadata": {},
   "outputs": [],
   "source": [
    "for i in range(npoints):\n",
    "    node[i] = int(i)\n",
    "    x[i] = uniform(xmin,xmax)\n",
    "    y[i] = uniform(ymin,ymax)"
   ]
  },
  {
   "cell_type": "code",
   "execution_count": null,
   "metadata": {},
   "outputs": [],
   "source": [
    "#TEST FOR MAHALANOBIS DISTANCE\n",
    "M = np.array( (x,y) )\n",
    "C = np.cov( M.T )\n",
    "IC = np.eye(20)\n",
    "invC = np.linalg.inv(C)"
   ]
  },
  {
   "cell_type": "code",
   "execution_count": null,
   "metadata": {},
   "outputs": [],
   "source": [
    "#TEST FOR MAHALANOBIS DISTANCE\n",
    "mahalanobis(x,y,invC)"
   ]
  },
  {
   "cell_type": "code",
   "execution_count": null,
   "metadata": {},
   "outputs": [],
   "source": [
    "###--------##########################\n",
    "plt.figure( figsize=(10,10), facecolor='w' )\n",
    "p1 = plt.plot(x, y, 'or' , markersize=12 )\n",
    "\n",
    "plt.title('Bolinhas')\n",
    "plt.grid()\n",
    "\n",
    "plt.xlim( min(x)-1.0, max(x)+1.0 )\n",
    "plt.ylim( min(y)-1.0, max(y)+1.0 )\n",
    "\n",
    "plt.gca().invert_yaxis()\n",
    "plt.savefig('test_graph.png',dpi=300,transparent=True)\n",
    "plt.show()"
   ]
  },
  {
   "cell_type": "code",
   "execution_count": null,
   "metadata": {},
   "outputs": [],
   "source": [
    "pos={'x':x, 'y':y}\n",
    "type(pos)"
   ]
  },
  {
   "cell_type": "code",
   "execution_count": null,
   "metadata": {
    "scrolled": false
   },
   "outputs": [],
   "source": [
    "# Lets see what's going on here:\n",
    "S = nx.Graph()\n",
    "for i in range(npoints):\n",
    "    S.add_node(i ,pos=(x[i],y[i]))\n",
    "    for j in range(npoints):\n",
    "        M1 = np.array((x[i],y[j]) )\n",
    "        C1 = np.cov(M1.T)\n",
    "        C1 = np.zeros((1,1))\n",
    "        invC1 = np.zeros((1,1))\n",
    "        S.add_edge(i,j,weight=l2dist(x,y)[i][j])\n",
    "#nx.set_node_attributes(S, 'X_Y', pos)\n",
    "TS = nx.minimum_spanning_tree(S)"
   ]
  },
  {
   "cell_type": "code",
   "execution_count": null,
   "metadata": {},
   "outputs": [],
   "source": [
    "plt.figure(figsize=(12,6))\n",
    "plt.subplot(121)\n",
    "nx.draw(S)\n",
    "plt.subplot(122)\n",
    "nx.draw(TS)\n",
    "plt.show()"
   ]
  },
  {
   "cell_type": "code",
   "execution_count": null,
   "metadata": {},
   "outputs": [],
   "source": [
    "#TENTANDO COLOCAR LABELS NOS VERTICES\n",
    "nx.draw(TS, with_labels = True)\n",
    "plt.savefig('labels.png')"
   ]
  },
  {
   "cell_type": "markdown",
   "metadata": {},
   "source": [
    "# TODO: Entender as saidas do MST para podermos calcular a funcao de equidistancia para calcular a funcao $\\theta$\n",
    "\n",
    "># <center> $\\theta = \\sum_i (d_{mst}^i - \\overline{d_{mst}})^2$"
   ]
  },
  {
   "cell_type": "code",
   "execution_count": null,
   "metadata": {},
   "outputs": [],
   "source": [
    "#CALCULANDO O PHI VIA A FUNCAO CRIADA\n",
    "phi1, dmst1 = distgraph(TS)\n",
    "print('L2=', phi1, dmst1)\n",
    "\n",
    "phi2, dmst2 = distgraphl1(TS)\n",
    "print('L1=',phi2, dmst2)\n",
    "\n",
    "phi3, dmst3 = distgraphmaha(x,y)\n",
    "print('Maha=', phi3, dmst3)"
   ]
  },
  {
   "cell_type": "code",
   "execution_count": null,
   "metadata": {
    "scrolled": false
   },
   "outputs": [],
   "source": [
    "### Plot da Arvore Minima em coordenadas 2D:\n",
    "plt.figure( figsize=(10,10), facecolor='w' )\n",
    "bbox_props = dict(boxstyle=\"round,pad=0.3\", fc=\"white\", ec=\"b\", lw=1)\n",
    "u = []\n",
    "v = []\n",
    "for (i, j, d) in TS.edges.data('weight'):\n",
    "    print(i,j,d)\n",
    "    u.append(x[i])\n",
    "    v.append(y[j])\n",
    "    xt = [ x[i], x[j] ]\n",
    "    yt = [ y[i], y[j] ]\n",
    "    plt.annotate( int(node[i]), xy=(x[i],y[i]) , bbox=bbox_props)\n",
    "    plt.annotate( int(node[j]), xy=(x[j],y[j]) , bbox=bbox_props)\n",
    "    plt.plot(xt,yt,'.-')\n",
    "plt.grid()\n",
    "p1 = plt.plot(x, y, 'ko', marker='o' )\n",
    "plt.gca().invert_yaxis()\n",
    "#plt.savefig('L2dist.pdf')\n",
    "plt.show()"
   ]
  },
  {
   "cell_type": "code",
   "execution_count": null,
   "metadata": {},
   "outputs": [],
   "source": [
    "distgraphmaha(x,y)"
   ]
  },
  {
   "cell_type": "markdown",
   "metadata": {},
   "source": [
    "# TODO: Fazer testes simples para verificar a função distGraf:\n",
    "> 1) um circulo de pontos igualmente espaçados e aleatorios; <br>\n",
    "> 2) um retangulo de pontos igualmente espaçados e aleatórios; <br>\n",
    "> 3) plotar a àrvore com os índices dos vértices para identificação;<br>"
   ]
  },
  {
   "cell_type": "code",
   "execution_count": null,
   "metadata": {
    "scrolled": false
   },
   "outputs": [],
   "source": [
    "#PLOTA UM L PARA TESTAR A FUNCAO DISTGRAPH E O NETWORKX\n",
    "ax = np.linspace(-5,5,npoints)\n",
    "ay = np.zeros(npoints-1)\n",
    "ay = 5 + ay\n",
    "by = np.linspace(-5 + 2*5/(npoints-1),5,npoints-1)\n",
    "bx = np.zeros(npoints)\n",
    "bx = -5 + bx\n",
    "\n",
    "a = np.zeros(2*npoints - 1)\n",
    "b = np.zeros(2*npoints - 1)\n",
    "\n",
    "for i in range(0, npoints):\n",
    "    a[i] = ax[i]\n",
    "for i in range(npoints, 2*npoints - 1 ):\n",
    "    a[i] = ay[i - npoints]\n",
    "\n",
    "for i in range(0, npoints):\n",
    "    b[i] = bx[i]\n",
    "for i in range(npoints, 2*npoints - 1):\n",
    "    b[i] = by[i - npoints]\n",
    "L = (a,b)\n",
    "plt.plot(a,b)\n",
    "plt.xlabel('a')\n",
    "plt.ylabel('b')\n",
    "plt.grid()\n",
    "plt.show()"
   ]
  },
  {
   "cell_type": "code",
   "execution_count": null,
   "metadata": {},
   "outputs": [],
   "source": [
    "Sl = nx.Graph()\n",
    "for i in range(2*npoints-1):\n",
    "    Sl.add_node(i ,pos=(L[0][i],L[1][i]))\n",
    "    for j in range(2*npoints-1):\n",
    "        Sl.add_edge(i,j,weight=l2dist(a,b)[i][j])\n",
    "TSl = nx.minimum_spanning_tree(Sl)"
   ]
  },
  {
   "cell_type": "code",
   "execution_count": null,
   "metadata": {},
   "outputs": [],
   "source": [
    "plt.figure(figsize=(12,6))\n",
    "plt.subplot(121)\n",
    "nx.draw(Sl)\n",
    "plt.subplot(122)\n",
    "nx.draw(TSl)\n",
    "plt.show()"
   ]
  },
  {
   "cell_type": "code",
   "execution_count": null,
   "metadata": {},
   "outputs": [],
   "source": [
    "#Calculating the phi funtcion and the mean\n",
    "phi1, dmst1 = distgraphl1(TSl)\n",
    "print(f'Phi = {phi1:.3f}; media = {dmst1:.3f}') #this makes sense since the average is close enough to every point"
   ]
  },
  {
   "cell_type": "code",
   "execution_count": null,
   "metadata": {},
   "outputs": [],
   "source": [
    "distgraphmaha(a,b)"
   ]
  },
  {
   "cell_type": "code",
   "execution_count": null,
   "metadata": {},
   "outputs": [],
   "source": [
    "node1 = np.zeros(2*npoints-1)\n",
    "for i in range(2*npoints-1):\n",
    "    node1[i] = int(i)"
   ]
  },
  {
   "cell_type": "code",
   "execution_count": null,
   "metadata": {},
   "outputs": [],
   "source": [
    "### Plot da Arvore Minima em coordenadas 2D:\n",
    "plt.figure( figsize=(10,10) )\n",
    "bbox_props = dict(boxstyle=\"round,pad=0.3\", fc=\"white\", ec=\"b\", lw=1)\n",
    "for (i, j, d) in TSl.edges.data('weight'): \n",
    "    at = [ a[i], a[j] ]\n",
    "    bt = [ b[i], b[j] ]\n",
    "    plt.annotate( int(node1[i]), xy=(a[i],b[i]) , bbox=bbox_props)\n",
    "    plt.annotate( int(node1[j]), xy=(a[j],b[j]) , bbox=bbox_props)\n",
    "    plt.plot(at,bt,'.-')\n",
    "plt.grid()\n",
    "p1 = plt.plot(a,b, 'ko', marker='o' )\n",
    "#plt.savefig('L2dist.pdf')\n",
    "#plt.gca().invert_yaxis()\n",
    "plt.show()"
   ]
  },
  {
   "cell_type": "code",
   "execution_count": null,
   "metadata": {},
   "outputs": [],
   "source": [
    "i = 1j\n",
    "r = 4.0\n",
    "theta = np.linspace(0,2*np.pi,50,endpoint=False)\n",
    "circle = r*np.exp(i*theta)\n",
    "node = np.arange(0,51)\n",
    "plt.plot(circle.real,circle.imag)\n",
    "plt.grid()\n",
    "plt.show()"
   ]
  },
  {
   "cell_type": "code",
   "execution_count": null,
   "metadata": {},
   "outputs": [],
   "source": [
    "Sc = nx.Graph()\n",
    "for i in range(50):\n",
    "    for j in range(i,50):\n",
    "        Sc.add_edge(i,j,weight=l2dist(circle.real,circle.imag)[i][j])\n",
    "TSc = nx.minimum_spanning_tree(Sc)"
   ]
  },
  {
   "cell_type": "code",
   "execution_count": null,
   "metadata": {},
   "outputs": [],
   "source": [
    "plt.figure(figsize=(12,6))\n",
    "plt.subplot(121)\n",
    "nx.draw(Sc)\n",
    "plt.subplot(122)\n",
    "nx.draw(TSc)\n",
    "plt.show()"
   ]
  },
  {
   "cell_type": "code",
   "execution_count": null,
   "metadata": {},
   "outputs": [],
   "source": [
    "#Calculating the phi funtcion and the mean\n",
    "phic, dmstc = distgraph(TSc)\n",
    "print(f'{phic:.2f}, {dmstc:.2f}')"
   ]
  },
  {
   "cell_type": "code",
   "execution_count": null,
   "metadata": {
    "scrolled": false
   },
   "outputs": [],
   "source": [
    "### Plot da Arvore Minima em coordenadas 2D:\n",
    "plt.figure( figsize=(10,10), facecolor='w' )\n",
    "bbox_props = dict(boxstyle=\"round,pad=0.3\", fc=\"white\", ec=\"b\", lw=1)\n",
    "c = 0\n",
    "for (i, j, d) in TSc.edges.data('weight'):\n",
    "    xct = [ circle.real[i], circle.real[j] ]\n",
    "    yct = [ circle.imag[i], circle.imag[j] ]\n",
    "    plt.annotate( int(node[i]), xy=(circle.real[i],circle.imag[i]) , bbox=bbox_props)\n",
    "    plt.annotate( int(node[j]), xy=(circle.real[j],circle.imag[j]) , bbox=bbox_props)\n",
    "    plt.plot(xct,yct,'.-')\n",
    "plt.grid()\n",
    "p1 = plt.plot(circle.real, circle.imag, 'ko', marker='o' )\n",
    "plt.gca().invert_yaxis()\n",
    "#plt.savefig('L2dist.pdf')\n",
    "plt.show()"
   ]
  },
  {
   "cell_type": "code",
   "execution_count": null,
   "metadata": {},
   "outputs": [],
   "source": [
    "## Sorting point masses into the 2D space:\n",
    "npoints = 10\n",
    "yl = np.zeros(npoints)\n",
    "xl = np.linspace(0,10,npoints,endpoint=True)"
   ]
  },
  {
   "cell_type": "code",
   "execution_count": null,
   "metadata": {},
   "outputs": [],
   "source": [
    "node2 = np.zeros(npoints)\n",
    "for i in range(npoints):\n",
    "    node2[i] = int(i)"
   ]
  },
  {
   "cell_type": "code",
   "execution_count": null,
   "metadata": {
    "scrolled": false
   },
   "outputs": [],
   "source": [
    "###--------##########################\n",
    "plt.figure( figsize=(10,10), facecolor='w' )\n",
    "#plt.plot(x1, y1, 'or' , markersize=12 )\n",
    "#plt.plot(x2, y2, 'ob' , markersize=12 )\n",
    "plt.plot(xl,yl)\n",
    "plt.title('Bolinhas')\n",
    "plt.grid()\n",
    "\n",
    "#plt.xlim( min(x1)-1.0, max(x1)+1.0 )\n",
    "#plt.ylim( min(y1)-1.0, max(y1)+1.0 )\n",
    "\n",
    "plt.gca().invert_yaxis()\n",
    "#plt.savefig('test_graph.png',dpi=300,transparent=True)\n",
    "plt.show()"
   ]
  },
  {
   "cell_type": "code",
   "execution_count": null,
   "metadata": {
    "scrolled": false
   },
   "outputs": [],
   "source": [
    "Sl = nx.Graph()\n",
    "for i in range(npoints):\n",
    "    for j in range(npoints):\n",
    "        Sl.add_edge(i,j,weight=l2dist(xl,yl)[i][j])  #WEIGTH IS GIVEN BY THE EUCLIDIAN'S NORM\n",
    "TSl = nx.minimum_spanning_tree(Sl)"
   ]
  },
  {
   "cell_type": "code",
   "execution_count": null,
   "metadata": {},
   "outputs": [],
   "source": [
    "plt.figure(figsize=(12,6))\n",
    "plt.subplot(121)\n",
    "nx.draw(Sl)\n",
    "plt.subplot(122)\n",
    "nx.draw(TSl)\n",
    "plt.show()"
   ]
  },
  {
   "cell_type": "code",
   "execution_count": null,
   "metadata": {},
   "outputs": [],
   "source": [
    "#Calculating the phi funtcion and the mean\n",
    "phic, dmstc = distgraph(TSl)\n",
    "print(f'{phic:.2f}, {dmstc:.2f}')"
   ]
  },
  {
   "cell_type": "code",
   "execution_count": null,
   "metadata": {
    "scrolled": false
   },
   "outputs": [],
   "source": [
    "### Plot da Arvore Minima em coordenadas 2D:\n",
    "plt.figure( figsize=(10,10), facecolor='w' )\n",
    "bbox_props = dict(boxstyle=\"round,pad=0.3\", fc=\"white\", ec=\"b\", lw=1)\n",
    "for (i, j, d) in TSl.edges.data('weight'):\n",
    "    xctl = [ xl[i], xl[j] ]\n",
    "    yctl = [ yl[i], yl[j] ]\n",
    "    plt.annotate( int(node2[i]), xy=(xl[i],yl[i]) , bbox=bbox_props)\n",
    "    plt.annotate( int(node2[j]), xy=(xl[j],yl[j]) , bbox=bbox_props)\n",
    "    plt.plot(xl,yl,'.-g')\n",
    "plt.grid()\n",
    "p1 = plt.plot(xl,yl, 'ko', marker='o' )\n",
    "plt.gca().invert_yaxis()\n",
    "#plt.savefig('L2dist.pdf')\n",
    "plt.show()"
   ]
  },
  {
   "cell_type": "code",
   "execution_count": null,
   "metadata": {},
   "outputs": [],
   "source": []
  }
 ],
 "metadata": {
  "kernelspec": {
   "display_name": "Python 3",
   "language": "python",
   "name": "python3"
  },
  "language_info": {
   "codemirror_mode": {
    "name": "ipython",
    "version": 3
   },
   "file_extension": ".py",
   "mimetype": "text/x-python",
   "name": "python",
   "nbconvert_exporter": "python",
   "pygments_lexer": "ipython3",
   "version": "3.6.5"
  }
 },
 "nbformat": 4,
 "nbformat_minor": 2
}
