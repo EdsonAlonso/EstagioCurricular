{
 "cells": [
  {
   "cell_type": "code",
   "execution_count": 1,
   "metadata": {},
   "outputs": [],
   "source": [
    "# importando bibliotecas uteis em python:\n",
    "import numpy as np\n",
    "from matplotlib import pyplot\n",
    "from random import randint\n",
    "from random import random"
   ]
  },
  {
   "cell_type": "markdown",
   "metadata": {},
   "source": [
    "### Script para simular um perfil sintético gravimétrico. A fonte enterrada é uma esfera (fonte pontual) localizada nas coordenadas cartesianas (xc, zc) definidas pelo usuário.\n",
    "\n",
    "### A equação de computa a componente vertical (z) da atração gravitacional produzida por uma fonte pontual é :\n",
    "\n",
    "#   $ g_z = \\frac{G m (z-zc)} / {[(x-xc^)^2 + (z-zc)^2]^(3/2)}  $"
   ]
  },
  {
   "cell_type": "code",
   "execution_count": 2,
   "metadata": {},
   "outputs": [
    {
     "name": "stdout",
     "output_type": "stream",
     "text": [
      "(5, 9)\n"
     ]
    }
   ],
   "source": [
    "# definindo as posicoes final e inicial do gravimetro em funcao das coordenadas do perfil sintetico:\n",
    "min = randint(0,10) #Sorteando a posição inicial do Gravímetro.\n",
    "max = randint(0,10) #Sorteando a posição final do Gravímetro.\n",
    "if min > max:       #Caso o mínimo e o máximo estiverem trocados.\n",
    "    min = max\n",
    "    max = min\n",
    "else:\n",
    "    min = min\n",
    "    max = max\n",
    "if min == max:      #Caso o mínimo e o máximo forem iguais.\n",
    "    min = randint(0,max)\n",
    "    max = randint(min,10)\n",
    "print(min, max)"
   ]
  },
  {
   "cell_type": "code",
   "execution_count": 3,
   "metadata": {},
   "outputs": [],
   "source": [
    "# definicao das coordenadas do perfil sintetico:\n",
    "xmin = -100.0 # minimo do perfil\n",
    "xmax = +100.0 # maximo do perfil\n",
    "n = 50 # numero de pontos do perfil\n",
    "x = np.linspace(xmin, xmax, n, endpoint= True ) # coordenadas x do perfil\n",
    "\n",
    "# altura das medidas:\n",
    "z = -10.0"
   ]
  },
  {
   "cell_type": "code",
   "execution_count": 4,
   "metadata": {},
   "outputs": [
    {
     "name": "stdout",
     "output_type": "stream",
     "text": [
      "0\n"
     ]
    }
   ],
   "source": [
    "# definicao das coordenadas do perfil sintetico via edson brain!\n",
    "coord = list(range(10))   #Estou supondo 10 Gravímetros pois me parece um bom número para conferir o funcionamento do programa.\n",
    "for n in range(0,10):\n",
    "    coord[n] = (x[n],0)   #A coordenada z vai ser sempre 0, pois os Gravímetros estão na superfície.\n",
    "print coord[0][1]"
   ]
  },
  {
   "cell_type": "code",
   "execution_count": 5,
   "metadata": {},
   "outputs": [
    {
     "name": "stdout",
     "output_type": "stream",
     "text": [
      "pi_edson = 3.1415 pi_python= 3.14159265359\n"
     ]
    }
   ],
   "source": [
    "#DEFININDO ALGUMAS CONSTANTES\n",
    "G = 6.674*(10**(-11)) # constante universal no SI:\n",
    "si2mGal = 100000.0 # conversor de unidades\n",
    "pi_edson = 3.1415 # não presi\n",
    "pi = np.pi\n",
    "print 'pi_edson =', pi_edson, 'pi_python=', pi"
   ]
  },
  {
   "cell_type": "code",
   "execution_count": 21,
   "metadata": {},
   "outputs": [
    {
     "name": "stdout",
     "output_type": "stream",
     "text": [
      "1047197.5512 2094395102.39\n"
     ]
    }
   ],
   "source": [
    "# Definicao das propriedades da fonte esferica:\n",
    "xc = 77.0\n",
    "zc = 100.0\n",
    "raio = 5.0\n",
    "rho = 2000.0\n",
    "V = (4.0/3.0) * pi * raio**3 * rho\n",
    "massa = V*rho\n",
    "print V, massa"
   ]
  },
  {
   "cell_type": "code",
   "execution_count": 22,
   "metadata": {},
   "outputs": [
    {
     "name": "stdout",
     "output_type": "stream",
     "text": [
      "[  35.4044353    36.60836508   37.86595986   39.17973893   40.55229164\n",
      "   41.98626691   43.4843594    45.0492919    46.68379318   48.39057055\n",
      "   50.17227618   52.03146642   53.97055292   55.99174447   58.09697854\n",
      "   60.28784127   62.56547482   64.93047114   67.3827514    69.92143067\n",
      "   72.5446679    75.24950216   78.03167674   80.88545405   83.80342589\n",
      "   86.77632494   89.79284582   92.83948577   95.90041738   98.95740758\n",
      "  101.9897989   104.97456947  107.88648804  110.69837832  113.38150319\n",
      "  115.9060735   118.24187841  120.3590246   122.22876112  123.82435609\n",
      "  125.12198203  126.10156004  126.74751027  127.0493583   127.00215443\n",
      "  126.60667501  125.86939079  124.80220445  123.42197721  121.74987889]\n"
     ]
    }
   ],
   "source": [
    "# calculo da componente vertical gz:\n",
    "gz =  - G * massa * (z-zc) / ( (x-xc)**2 + (z-zc)**2 )**(3/2)\n",
    "gz *= si2mGal\n",
    "print gz"
   ]
  },
  {
   "cell_type": "code",
   "execution_count": 23,
   "metadata": {},
   "outputs": [
    {
     "data": {
      "image/png": "[encoded data removed]",
      "text/plain": [
       "<Figure size 432x288 with 1 Axes>"
      ]
     },
     "metadata": {},
     "output_type": "display_data"
    }
   ],
   "source": [
    "# plotando o resultado:\n",
    "pyplot.plot(x,gz,'+r')\n",
    "pyplot.show()"
   ]
  },
  {
   "cell_type": "markdown",
   "metadata": {},
   "source": [
    "## TODO:\n",
    "##  1) Subplot com a bolinha, colocando o tamanho da bolinho em funcao do raio\n",
    "##  2) Salvar a figura e o arquivo com os dados"
   ]
  },
  {
   "cell_type": "code",
   "execution_count": null,
   "metadata": {},
   "outputs": [],
   "source": []
  }
 ],
 "metadata": {
  "kernelspec": {
   "display_name": "Python 2",
   "language": "python",
   "name": "python2"
  },
  "language_info": {
   "codemirror_mode": {
    "name": "ipython",
    "version": 2
   },
   "file_extension": ".py",
   "mimetype": "text/x-python",
   "name": "python",
   "nbconvert_exporter": "python",
   "pygments_lexer": "ipython2",
   "version": "2.7.15"
  }
 },
 "nbformat": 4,
 "nbformat_minor": 2
}
