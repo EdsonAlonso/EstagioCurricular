{
 "cells": [
  {
   "cell_type": "markdown",
   "metadata": {},
   "source": [
    "## Several tests of different gravity models for verification:"
   ]
  },
  {
   "cell_type": "markdown",
   "metadata": {},
   "source": [
    ">### Teste 01: Modelo da haste fina: Neste teste verifica-se a implementacao da componente vertical da atração gravitacional produzida por uma haste fina com inclinação e seção vertical assumidas pelo usuario."
   ]
  },
  {
   "cell_type": "markdown",
   "metadata": {},
   "source": [
    "### Colocar a equação aqui:\n",
    "\n"
   ]
  },
  {
   "cell_type": "code",
   "execution_count": null,
   "metadata": {},
   "outputs": [],
   "source": [
    "# import das bibliotecas:\n",
    "import numpy as np\n",
    "import matplotlib.pyplot as plt\n",
    "from mpl_toolkits.mplot3d import Axes3D\n",
    "#from numpy import fft\n",
    "#exec()"
   ]
  },
  {
   "cell_type": "code",
   "execution_count": null,
   "metadata": {},
   "outputs": [],
   "source": [
    "from modules.gravity2D import g_rod,g_prism,g_sphere,g_finit_sheet,g_semifin_sheet\n",
    "from modules.auxiliar  import linemasses"
   ]
  },
  {
   "cell_type": "code",
   "execution_count": null,
   "metadata": {},
   "outputs": [],
   "source": [
    "# definicao das posicoes de observacao:\n",
    "xmin  = -10.0\n",
    "xmax  = +10.0\n",
    "ndata = 300\n",
    "x = np.linspace(xmin, xmax, ndata, endpoint=False )\n",
    "z = np.zeros(len(x))"
   ]
  },
  {
   "cell_type": "code",
   "execution_count": null,
   "metadata": {},
   "outputs": [],
   "source": [
    "# criacao da linha de massas:\n",
    "p1= (0.0, 1.0)\n",
    "p2= (0.0, 5.0)\n",
    "theta = np.arctan2( (p2[1] - p1[1]), (p2[0] - p1[0]) )\n",
    "print (theta*180.0/np.pi)\n",
    "nmassas = 300\n",
    "xs,zs = linemasses(p1,p2,nmassas)"
   ]
  },
  {
   "cell_type": "code",
   "execution_count": null,
   "metadata": {},
   "outputs": [],
   "source": [
    "# Definindo a massa da haste:\n",
    "m = np.zeros( nmassas ) + 1000.0\n",
    "gs = g_sphere(x,z,[xs,zs,m],component='z')"
   ]
  },
  {
   "cell_type": "code",
   "execution_count": null,
   "metadata": {},
   "outputs": [],
   "source": [
    "# definicao da haste:\n",
    "#haste = [0.0, 0.2, 100.0, 75.0, 1000.0, 1.0] # [xrod(m), zrod(m), len_rod(m), dip_angle(degree), density(kg/m3, CrossSec(m2) ]\n",
    "#prism = [1.0, 1.0, 100.0, 1000.0, 1.0] # [x,h1, len, rho, CrossSection]"
   ]
  },
  {
   "cell_type": "code",
   "execution_count": null,
   "metadata": {},
   "outputs": [],
   "source": [
    "#gz_haste = g_rod(x,z,haste)\n",
    "#gz_prism = g_prism(x,z,prism)"
   ]
  },
  {
   "cell_type": "code",
   "execution_count": null,
   "metadata": {},
   "outputs": [],
   "source": [
    "plt.figure(figsize=(10,12), facecolor='w')\n",
    "plt.subplot(211)\n",
    "plt.plot(x,gs,'-r')\n",
    "plt.grid()\n",
    "#########################################\n",
    "plt.subplot(212)\n",
    "plt.plot(xs,zs,'o-k')\n",
    "plt.xlim(min(x), max(x) )\n",
    "plt.gca().invert_yaxis()\n",
    "plt.grid()\n",
    "plt.show()"
   ]
  },
  {
   "cell_type": "markdown",
   "metadata": {},
   "source": [
    "# TODO: implementar a \"thin sheet with finite length\" e o \"semi-infinite horizontal sheet\""
   ]
  },
  {
   "cell_type": "code",
   "execution_count": null,
   "metadata": {},
   "outputs": [],
   "source": [
    "# [x, z, dens, dip, length, thickness]\n",
    "sheet = [2.0, 1.0, 10000.0, 45.0, 5.0, 0.1]\n",
    "gf = g_finit_sheet(x,z,sheet)"
   ]
  },
  {
   "cell_type": "code",
   "execution_count": null,
   "metadata": {},
   "outputs": [],
   "source": [
    "print(np.arccos(-1.0))"
   ]
  },
  {
   "cell_type": "code",
   "execution_count": null,
   "metadata": {},
   "outputs": [],
   "source": [
    "plt.figure(figsize=(10,6), facecolor='w')\n",
    "plt.plot(x,gf,'.-r')\n",
    "plt.grid()"
   ]
  },
  {
   "cell_type": "code",
   "execution_count": null,
   "metadata": {},
   "outputs": [],
   "source": [
    "# coordenadas iniciais da thin sheet:\n",
    "xo, zo   = sheet[0], sheet[1]\n",
    "d, alpha = sheet[4], sheet[3] \n",
    "beta     = (np.pi - alpha)\n",
    "t = sheet[5]\n",
    "# coordendas finais da thin sheet:\n",
    "x1 = xo + d * np.cos(beta)\n",
    "z1 = zo + d * np.sin(beta)\n",
    "\n",
    "gamma = (np.pi/2.0) - beta\n",
    "# coordenadas com a thickness da sheet:\n",
    "x3 = xo + t * np.cos(gamma)\n",
    "z3 = zo + t * np.sin(gamma)\n",
    "\n",
    "x2 = x3 + d * np.cos(beta)\n",
    "z2 = z3 - d * np.sin(beta) # z positivo para baixo!\n",
    "\n",
    "xs = [xo, x1, x2, x3]\n",
    "zs = [zo, z1, z2, z3]"
   ]
  },
  {
   "cell_type": "code",
   "execution_count": null,
   "metadata": {},
   "outputs": [],
   "source": [
    "plt.scatter(xs,zs,s=10,c='k')"
   ]
  },
  {
   "cell_type": "code",
   "execution_count": null,
   "metadata": {},
   "outputs": [],
   "source": []
  },
  {
   "cell_type": "code",
   "execution_count": null,
   "metadata": {},
   "outputs": [],
   "source": []
  },
  {
   "cell_type": "code",
   "execution_count": null,
   "metadata": {},
   "outputs": [],
   "source": [
    "# [x, z, rho, thickness]\n",
    "sheet = [-3.0, 1.0, 100000.0, 0.01]\n",
    "gsf = g_semifin_sheet(x,z,sheet)"
   ]
  },
  {
   "cell_type": "code",
   "execution_count": null,
   "metadata": {},
   "outputs": [],
   "source": [
    "plt.figure(figsize=(5,6), facecolor='w')\n",
    "plt.plot(x,gsf,'.-r')\n",
    "plt.grid()"
   ]
  },
  {
   "cell_type": "code",
   "execution_count": null,
   "metadata": {},
   "outputs": [],
   "source": []
  },
  {
   "cell_type": "markdown",
   "metadata": {},
   "source": [
    "## TODO:<br>\n",
    "> ### - ENCONTRAR O BUG NO PLOT DA FOLHA FINITA; <br>\n",
    "> ### - TRANSFORMAR NUMA 'FUNCTION' DENTRO DE UM MODULO ESPECIFICADO; <br>\n",
    "> ### - EXTENDER PARA A FOLHA INFINITA;"
   ]
  },
  {
   "cell_type": "code",
   "execution_count": null,
   "metadata": {},
   "outputs": [],
   "source": []
  }
 ],
 "metadata": {
  "kernelspec": {
   "display_name": "Python 3",
   "language": "python",
   "name": "python3"
  },
  "language_info": {
   "codemirror_mode": {
    "name": "ipython",
    "version": 3
   },
   "file_extension": ".py",
   "mimetype": "text/x-python",
   "name": "python",
   "nbconvert_exporter": "python",
   "pygments_lexer": "ipython3",
   "version": "3.6.5"
  }
 },
 "nbformat": 4,
 "nbformat_minor": 2
}
